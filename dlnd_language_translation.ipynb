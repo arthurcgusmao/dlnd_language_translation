{
 "cells": [
  {
   "cell_type": "markdown",
   "metadata": {
    "collapsed": true
   },
   "source": [
    "# Language Translation\n",
    "In this project, you’re going to take a peek into the realm of neural network machine translation.  You’ll be training a sequence to sequence model on a dataset of English and French sentences that can translate new sentences from English to French.\n",
    "## Get the Data\n",
    "Since translating the whole language of English to French will take lots of time to train, we have provided you with a small portion of the English corpus."
   ]
  },
  {
   "cell_type": "code",
   "execution_count": 47,
   "metadata": {
    "collapsed": true
   },
   "outputs": [],
   "source": [
    "\"\"\"\n",
    "DON'T MODIFY ANYTHING IN THIS CELL\n",
    "\"\"\"\n",
    "import helper\n",
    "import problem_unittests as tests\n",
    "\n",
    "source_path = 'data/small_vocab_en'\n",
    "target_path = 'data/small_vocab_fr'\n",
    "source_text = helper.load_data(source_path)\n",
    "target_text = helper.load_data(target_path)"
   ]
  },
  {
   "cell_type": "markdown",
   "metadata": {},
   "source": [
    "## Explore the Data\n",
    "Play around with view_sentence_range to view different parts of the data."
   ]
  },
  {
   "cell_type": "code",
   "execution_count": 48,
   "metadata": {},
   "outputs": [
    {
     "name": "stdout",
     "output_type": "stream",
     "text": [
      "Dataset Stats\n",
      "Roughly the number of unique words: 227\n",
      "Number of sentences: 137861\n",
      "Average number of words in a sentence: 13.225277634719028\n",
      "\n",
      "English sentences 0 to 10:\n",
      "new jersey is sometimes quiet during autumn , and it is snowy in april .\n",
      "the united states is usually chilly during july , and it is usually freezing in november .\n",
      "california is usually quiet during march , and it is usually hot in june .\n",
      "the united states is sometimes mild during june , and it is cold in september .\n",
      "your least liked fruit is the grape , but my least liked is the apple .\n",
      "his favorite fruit is the orange , but my favorite is the grape .\n",
      "paris is relaxing during december , but it is usually chilly in july .\n",
      "new jersey is busy during spring , and it is never hot in march .\n",
      "our least liked fruit is the lemon , but my least liked is the grape .\n",
      "the united states is sometimes busy during january , and it is sometimes warm in november .\n",
      "\n",
      "French sentences 0 to 10:\n",
      "new jersey est parfois calme pendant l' automne , et il est neigeux en avril .\n",
      "les états-unis est généralement froid en juillet , et il gèle habituellement en novembre .\n",
      "california est généralement calme en mars , et il est généralement chaud en juin .\n",
      "les états-unis est parfois légère en juin , et il fait froid en septembre .\n",
      "votre moins aimé fruit est le raisin , mais mon moins aimé est la pomme .\n",
      "son fruit préféré est l'orange , mais mon préféré est le raisin .\n",
      "paris est relaxant en décembre , mais il est généralement froid en juillet .\n",
      "new jersey est occupé au printemps , et il est jamais chaude en mars .\n",
      "notre fruit est moins aimé le citron , mais mon moins aimé est le raisin .\n",
      "les états-unis est parfois occupé en janvier , et il est parfois chaud en novembre .\n"
     ]
    }
   ],
   "source": [
    "view_sentence_range = (0, 10)\n",
    "\n",
    "\"\"\"\n",
    "DON'T MODIFY ANYTHING IN THIS CELL\n",
    "\"\"\"\n",
    "import numpy as np\n",
    "\n",
    "print('Dataset Stats')\n",
    "print('Roughly the number of unique words: {}'.format(len({word: None for word in source_text.split()})))\n",
    "\n",
    "sentences = source_text.split('\\n')\n",
    "word_counts = [len(sentence.split()) for sentence in sentences]\n",
    "print('Number of sentences: {}'.format(len(sentences)))\n",
    "print('Average number of words in a sentence: {}'.format(np.average(word_counts)))\n",
    "\n",
    "print()\n",
    "print('English sentences {} to {}:'.format(*view_sentence_range))\n",
    "print('\\n'.join(source_text.split('\\n')[view_sentence_range[0]:view_sentence_range[1]]))\n",
    "print()\n",
    "print('French sentences {} to {}:'.format(*view_sentence_range))\n",
    "print('\\n'.join(target_text.split('\\n')[view_sentence_range[0]:view_sentence_range[1]]))"
   ]
  },
  {
   "cell_type": "markdown",
   "metadata": {},
   "source": [
    "## Implement Preprocessing Function\n",
    "### Text to Word Ids\n",
    "As you did with other RNNs, you must turn the text into a number so the computer can understand it. In the function `text_to_ids()`, you'll turn `source_text` and `target_text` from words to ids.  However, you need to add the `<EOS>` word id at the end of `target_text`.  This will help the neural network predict when the sentence should end.\n",
    "\n",
    "You can get the `<EOS>` word id by doing:\n",
    "```python\n",
    "target_vocab_to_int['<EOS>']\n",
    "```\n",
    "You can get other word ids using `source_vocab_to_int` and `target_vocab_to_int`."
   ]
  },
  {
   "cell_type": "code",
   "execution_count": null,
   "metadata": {
    "collapsed": true
   },
   "outputs": [],
   "source": [
    "def text_to_ids(source_text, target_text, source_vocab_to_int, target_vocab_to_int):\n",
    "    \"\"\"\n",
    "    Convert source and target text to proper word ids\n",
    "    :param source_text: String that contains all the source text.\n",
    "    :param target_text: String that contains all the target text.\n",
    "    :param source_vocab_to_int: Dictionary to go from the source words to an id\n",
    "    :param target_vocab_to_int: Dictionary to go from the target words to an id\n",
    "    :return: A tuple of lists (source_id_text, target_id_text)\n",
    "    \"\"\"\n",
    "    # TODO: Implement Function\n",
    "    out_source = []\n",
    "    out_target = []\n",
    "    for sentence in source_text.split('\\n'):\n",
    "        out_source.append([source_vocab_to_int[w] for w in sentence.split()])\n",
    "    for sentence in target_text.split('\\n'):\n",
    "        out_target.append([target_vocab_to_int[w] for w in sentence.split()])\n",
    "        \n",
    "    # add eos to targets\n",
    "    eos_id = target_vocab_to_int['<EOS>']\n",
    "    for sentence in out_target:\n",
    "        sentence.append(eos_id)\n",
    "    \n",
    "    return out_source, out_target\n",
    "\n",
    "\"\"\"\n",
    "DON'T MODIFY ANYTHING IN THIS CELL THAT IS BELOW THIS LINE\n",
    "\"\"\"\n",
    "tests.test_text_to_ids(text_to_ids)"
   ]
  },
  {
   "cell_type": "markdown",
   "metadata": {},
   "source": [
    "### Preprocess all the data and save it\n",
    "Running the code cell below will preprocess all the data and save it to file."
   ]
  },
  {
   "cell_type": "code",
   "execution_count": null,
   "metadata": {
    "collapsed": true
   },
   "outputs": [],
   "source": [
    "\"\"\"\n",
    "DON'T MODIFY ANYTHING IN THIS CELL\n",
    "\"\"\"\n",
    "helper.preprocess_and_save_data(source_path, target_path, text_to_ids)"
   ]
  },
  {
   "cell_type": "markdown",
   "metadata": {},
   "source": [
    "# Check Point\n",
    "This is your first checkpoint. If you ever decide to come back to this notebook or have to restart the notebook, you can start from here. The preprocessed data has been saved to disk."
   ]
  },
  {
   "cell_type": "code",
   "execution_count": 5,
   "metadata": {
    "collapsed": true
   },
   "outputs": [],
   "source": [
    "\"\"\"\n",
    "DON'T MODIFY ANYTHING IN THIS CELL\n",
    "\"\"\"\n",
    "import numpy as np\n",
    "import helper\n",
    "import problem_unittests as tests\n",
    "\n",
    "(source_int_text, target_int_text), (source_vocab_to_int, target_vocab_to_int), _ = helper.load_preprocess()"
   ]
  },
  {
   "cell_type": "markdown",
   "metadata": {},
   "source": [
    "### Check the Version of TensorFlow and Access to GPU\n",
    "This will check to make sure you have the correct version of TensorFlow and access to a GPU"
   ]
  },
  {
   "cell_type": "code",
   "execution_count": 6,
   "metadata": {},
   "outputs": [
    {
     "name": "stdout",
     "output_type": "stream",
     "text": [
      "TensorFlow Version: 1.3.0-rc2\n",
      "Default GPU Device: /device:GPU:0\n"
     ]
    }
   ],
   "source": [
    "\"\"\"\n",
    "DON'T MODIFY ANYTHING IN THIS CELL\n",
    "\"\"\"\n",
    "from distutils.version import LooseVersion\n",
    "import warnings\n",
    "import tensorflow as tf\n",
    "from tensorflow.python.layers.core import Dense\n",
    "\n",
    "# Check TensorFlow Version\n",
    "assert LooseVersion(tf.__version__) >= LooseVersion('1.1'), 'Please use TensorFlow version 1.1 or newer'\n",
    "print('TensorFlow Version: {}'.format(tf.__version__))\n",
    "\n",
    "# Check for a GPU\n",
    "if not tf.test.gpu_device_name():\n",
    "    warnings.warn('No GPU found. Please use a GPU to train your neural network.')\n",
    "else:\n",
    "    print('Default GPU Device: {}'.format(tf.test.gpu_device_name()))"
   ]
  },
  {
   "cell_type": "markdown",
   "metadata": {},
   "source": [
    "## Build the Neural Network\n",
    "You'll build the components necessary to build a Sequence-to-Sequence model by implementing the following functions below:\n",
    "- `model_inputs`\n",
    "- `process_decoder_input`\n",
    "- `encoding_layer`\n",
    "- `decoding_layer_train`\n",
    "- `decoding_layer_infer`\n",
    "- `decoding_layer`\n",
    "- `seq2seq_model`\n",
    "\n",
    "### Input\n",
    "Implement the `model_inputs()` function to create TF Placeholders for the Neural Network. It should create the following placeholders:\n",
    "\n",
    "- Input text placeholder named \"input\" using the TF Placeholder name parameter with rank 2.\n",
    "- Targets placeholder with rank 2.\n",
    "- Learning rate placeholder with rank 0.\n",
    "- Keep probability placeholder named \"keep_prob\" using the TF Placeholder name parameter with rank 0.\n",
    "- Target sequence length placeholder named \"target_sequence_length\" with rank 1\n",
    "- Max target sequence length tensor named \"max_target_len\" getting its value from applying tf.reduce_max on the target_sequence_length placeholder. Rank 0.\n",
    "- Source sequence length placeholder named \"source_sequence_length\" with rank 1\n",
    "\n",
    "Return the placeholders in the following the tuple (input, targets, learning rate, keep probability, target sequence length, max target sequence length, source sequence length)"
   ]
  },
  {
   "cell_type": "code",
   "execution_count": 7,
   "metadata": {},
   "outputs": [
    {
     "name": "stdout",
     "output_type": "stream",
     "text": [
      "ERROR:tensorflow:==================================\n",
      "Object was never used (type <class 'tensorflow.python.framework.ops.Operation'>):\n",
      "<tf.Operation 'assert_rank_2/Assert/Assert' type=Assert>\n",
      "If you want to mark it as used call its \"mark_used()\" method.\n",
      "It was originally created here:\n",
      "['File \"/home/arthurcgusmao/.anaconda2/envs/tflearn/lib/python3.6/runpy.py\", line 193, in _run_module_as_main\\n    \"__main__\", mod_spec)', 'File \"/home/arthurcgusmao/.anaconda2/envs/tflearn/lib/python3.6/runpy.py\", line 85, in _run_code\\n    exec(code, run_globals)', 'File \"/home/arthurcgusmao/.anaconda2/envs/tflearn/lib/python3.6/site-packages/ipykernel_launcher.py\", line 16, in <module>\\n    app.launch_new_instance()', 'File \"/home/arthurcgusmao/.anaconda2/envs/tflearn/lib/python3.6/site-packages/traitlets/config/application.py\", line 658, in launch_instance\\n    app.start()', 'File \"/home/arthurcgusmao/.anaconda2/envs/tflearn/lib/python3.6/site-packages/ipykernel/kernelapp.py\", line 477, in start\\n    ioloop.IOLoop.instance().start()', 'File \"/home/arthurcgusmao/.anaconda2/envs/tflearn/lib/python3.6/site-packages/zmq/eventloop/ioloop.py\", line 177, in start\\n    super(ZMQIOLoop, self).start()', 'File \"/home/arthurcgusmao/.anaconda2/envs/tflearn/lib/python3.6/site-packages/tornado/ioloop.py\", line 888, in start\\n    handler_func(fd_obj, events)', 'File \"/home/arthurcgusmao/.anaconda2/envs/tflearn/lib/python3.6/site-packages/tornado/stack_context.py\", line 277, in null_wrapper\\n    return fn(*args, **kwargs)', 'File \"/home/arthurcgusmao/.anaconda2/envs/tflearn/lib/python3.6/site-packages/zmq/eventloop/zmqstream.py\", line 440, in _handle_events\\n    self._handle_recv()', 'File \"/home/arthurcgusmao/.anaconda2/envs/tflearn/lib/python3.6/site-packages/zmq/eventloop/zmqstream.py\", line 472, in _handle_recv\\n    self._run_callback(callback, msg)', 'File \"/home/arthurcgusmao/.anaconda2/envs/tflearn/lib/python3.6/site-packages/zmq/eventloop/zmqstream.py\", line 414, in _run_callback\\n    callback(*args, **kwargs)', 'File \"/home/arthurcgusmao/.anaconda2/envs/tflearn/lib/python3.6/site-packages/tornado/stack_context.py\", line 277, in null_wrapper\\n    return fn(*args, **kwargs)', 'File \"/home/arthurcgusmao/.anaconda2/envs/tflearn/lib/python3.6/site-packages/ipykernel/kernelbase.py\", line 283, in dispatcher\\n    return self.dispatch_shell(stream, msg)', 'File \"/home/arthurcgusmao/.anaconda2/envs/tflearn/lib/python3.6/site-packages/ipykernel/kernelbase.py\", line 235, in dispatch_shell\\n    handler(stream, idents, msg)', 'File \"/home/arthurcgusmao/.anaconda2/envs/tflearn/lib/python3.6/site-packages/ipykernel/kernelbase.py\", line 399, in execute_request\\n    user_expressions, allow_stdin)', 'File \"/home/arthurcgusmao/.anaconda2/envs/tflearn/lib/python3.6/site-packages/ipykernel/ipkernel.py\", line 196, in do_execute\\n    res = shell.run_cell(code, store_history=store_history, silent=silent)', 'File \"/home/arthurcgusmao/.anaconda2/envs/tflearn/lib/python3.6/site-packages/ipykernel/zmqshell.py\", line 533, in run_cell\\n    return super(ZMQInteractiveShell, self).run_cell(*args, **kwargs)', 'File \"/home/arthurcgusmao/.anaconda2/envs/tflearn/lib/python3.6/site-packages/IPython/core/interactiveshell.py\", line 2698, in run_cell\\n    interactivity=interactivity, compiler=compiler, result=result)', 'File \"/home/arthurcgusmao/.anaconda2/envs/tflearn/lib/python3.6/site-packages/IPython/core/interactiveshell.py\", line 2808, in run_ast_nodes\\n    if self.run_code(code, result):', 'File \"/home/arthurcgusmao/.anaconda2/envs/tflearn/lib/python3.6/site-packages/IPython/core/interactiveshell.py\", line 2862, in run_code\\n    exec(code_obj, self.user_global_ns, self.user_ns)', 'File \"<ipython-input-7-cfa4142978a4>\", line 21, in <module>\\n    tests.test_model_inputs(model_inputs)', 'File \"/home/arthurcgusmao/Projects/deep-learning-nanodegree/language-translation/problem_unittests.py\", line 106, in test_model_inputs\\n    assert tf.assert_rank(lr, 0, message=\\'Learning Rate has wrong rank\\')', 'File \"/home/arthurcgusmao/.anaconda2/envs/tflearn/lib/python3.6/site-packages/tensorflow/python/ops/check_ops.py\", line 618, in assert_rank\\n    dynamic_condition, data, summarize)', 'File \"/home/arthurcgusmao/.anaconda2/envs/tflearn/lib/python3.6/site-packages/tensorflow/python/ops/check_ops.py\", line 572, in _assert_rank_condition\\n    return control_flow_ops.Assert(condition, data, summarize=summarize)', 'File \"/home/arthurcgusmao/.anaconda2/envs/tflearn/lib/python3.6/site-packages/tensorflow/python/util/tf_should_use.py\", line 175, in wrapped\\n    return _add_should_use_warning(fn(*args, **kwargs))', 'File \"/home/arthurcgusmao/.anaconda2/envs/tflearn/lib/python3.6/site-packages/tensorflow/python/util/tf_should_use.py\", line 144, in _add_should_use_warning\\n    wrapped = TFShouldUseWarningWrapper(x)', 'File \"/home/arthurcgusmao/.anaconda2/envs/tflearn/lib/python3.6/site-packages/tensorflow/python/util/tf_should_use.py\", line 101, in __init__\\n    stack = [s.strip() for s in traceback.format_stack()]']\n",
      "==================================\n",
      "ERROR:tensorflow:==================================\n",
      "Object was never used (type <class 'tensorflow.python.framework.ops.Operation'>):\n",
      "<tf.Operation 'assert_rank_3/Assert/Assert' type=Assert>\n",
      "If you want to mark it as used call its \"mark_used()\" method.\n",
      "It was originally created here:\n",
      "['File \"/home/arthurcgusmao/.anaconda2/envs/tflearn/lib/python3.6/runpy.py\", line 193, in _run_module_as_main\\n    \"__main__\", mod_spec)', 'File \"/home/arthurcgusmao/.anaconda2/envs/tflearn/lib/python3.6/runpy.py\", line 85, in _run_code\\n    exec(code, run_globals)', 'File \"/home/arthurcgusmao/.anaconda2/envs/tflearn/lib/python3.6/site-packages/ipykernel_launcher.py\", line 16, in <module>\\n    app.launch_new_instance()', 'File \"/home/arthurcgusmao/.anaconda2/envs/tflearn/lib/python3.6/site-packages/traitlets/config/application.py\", line 658, in launch_instance\\n    app.start()', 'File \"/home/arthurcgusmao/.anaconda2/envs/tflearn/lib/python3.6/site-packages/ipykernel/kernelapp.py\", line 477, in start\\n    ioloop.IOLoop.instance().start()', 'File \"/home/arthurcgusmao/.anaconda2/envs/tflearn/lib/python3.6/site-packages/zmq/eventloop/ioloop.py\", line 177, in start\\n    super(ZMQIOLoop, self).start()', 'File \"/home/arthurcgusmao/.anaconda2/envs/tflearn/lib/python3.6/site-packages/tornado/ioloop.py\", line 888, in start\\n    handler_func(fd_obj, events)', 'File \"/home/arthurcgusmao/.anaconda2/envs/tflearn/lib/python3.6/site-packages/tornado/stack_context.py\", line 277, in null_wrapper\\n    return fn(*args, **kwargs)', 'File \"/home/arthurcgusmao/.anaconda2/envs/tflearn/lib/python3.6/site-packages/zmq/eventloop/zmqstream.py\", line 440, in _handle_events\\n    self._handle_recv()', 'File \"/home/arthurcgusmao/.anaconda2/envs/tflearn/lib/python3.6/site-packages/zmq/eventloop/zmqstream.py\", line 472, in _handle_recv\\n    self._run_callback(callback, msg)', 'File \"/home/arthurcgusmao/.anaconda2/envs/tflearn/lib/python3.6/site-packages/zmq/eventloop/zmqstream.py\", line 414, in _run_callback\\n    callback(*args, **kwargs)', 'File \"/home/arthurcgusmao/.anaconda2/envs/tflearn/lib/python3.6/site-packages/tornado/stack_context.py\", line 277, in null_wrapper\\n    return fn(*args, **kwargs)', 'File \"/home/arthurcgusmao/.anaconda2/envs/tflearn/lib/python3.6/site-packages/ipykernel/kernelbase.py\", line 283, in dispatcher\\n    return self.dispatch_shell(stream, msg)', 'File \"/home/arthurcgusmao/.anaconda2/envs/tflearn/lib/python3.6/site-packages/ipykernel/kernelbase.py\", line 235, in dispatch_shell\\n    handler(stream, idents, msg)', 'File \"/home/arthurcgusmao/.anaconda2/envs/tflearn/lib/python3.6/site-packages/ipykernel/kernelbase.py\", line 399, in execute_request\\n    user_expressions, allow_stdin)', 'File \"/home/arthurcgusmao/.anaconda2/envs/tflearn/lib/python3.6/site-packages/ipykernel/ipkernel.py\", line 196, in do_execute\\n    res = shell.run_cell(code, store_history=store_history, silent=silent)', 'File \"/home/arthurcgusmao/.anaconda2/envs/tflearn/lib/python3.6/site-packages/ipykernel/zmqshell.py\", line 533, in run_cell\\n    return super(ZMQInteractiveShell, self).run_cell(*args, **kwargs)', 'File \"/home/arthurcgusmao/.anaconda2/envs/tflearn/lib/python3.6/site-packages/IPython/core/interactiveshell.py\", line 2698, in run_cell\\n    interactivity=interactivity, compiler=compiler, result=result)', 'File \"/home/arthurcgusmao/.anaconda2/envs/tflearn/lib/python3.6/site-packages/IPython/core/interactiveshell.py\", line 2808, in run_ast_nodes\\n    if self.run_code(code, result):', 'File \"/home/arthurcgusmao/.anaconda2/envs/tflearn/lib/python3.6/site-packages/IPython/core/interactiveshell.py\", line 2862, in run_code\\n    exec(code_obj, self.user_global_ns, self.user_ns)', 'File \"<ipython-input-7-cfa4142978a4>\", line 21, in <module>\\n    tests.test_model_inputs(model_inputs)', 'File \"/home/arthurcgusmao/Projects/deep-learning-nanodegree/language-translation/problem_unittests.py\", line 107, in test_model_inputs\\n    assert tf.assert_rank(keep_prob, 0, message=\\'Keep Probability has wrong rank\\')', 'File \"/home/arthurcgusmao/.anaconda2/envs/tflearn/lib/python3.6/site-packages/tensorflow/python/ops/check_ops.py\", line 618, in assert_rank\\n    dynamic_condition, data, summarize)', 'File \"/home/arthurcgusmao/.anaconda2/envs/tflearn/lib/python3.6/site-packages/tensorflow/python/ops/check_ops.py\", line 572, in _assert_rank_condition\\n    return control_flow_ops.Assert(condition, data, summarize=summarize)', 'File \"/home/arthurcgusmao/.anaconda2/envs/tflearn/lib/python3.6/site-packages/tensorflow/python/util/tf_should_use.py\", line 175, in wrapped\\n    return _add_should_use_warning(fn(*args, **kwargs))', 'File \"/home/arthurcgusmao/.anaconda2/envs/tflearn/lib/python3.6/site-packages/tensorflow/python/util/tf_should_use.py\", line 144, in _add_should_use_warning\\n    wrapped = TFShouldUseWarningWrapper(x)', 'File \"/home/arthurcgusmao/.anaconda2/envs/tflearn/lib/python3.6/site-packages/tensorflow/python/util/tf_should_use.py\", line 101, in __init__\\n    stack = [s.strip() for s in traceback.format_stack()]']\n",
      "==================================\n"
     ]
    },
    {
     "name": "stdout",
     "output_type": "stream",
     "text": [
      "Tests Passed\n"
     ]
    }
   ],
   "source": [
    "def model_inputs():\n",
    "    \"\"\"\n",
    "    Create TF Placeholders for input, targets, learning rate, and lengths of source and target sequences.\n",
    "    :return: Tuple (input, targets, learning rate, keep probability, target sequence length,\n",
    "    max target sequence length, source sequence length)\n",
    "    \"\"\"\n",
    "    # TODO: Implement Function\n",
    "    input_ = tf.placeholder(tf.int32, [None, None], name='input')\n",
    "    targets = tf.placeholder(tf.int32, [None, None])\n",
    "    lr = tf.placeholder(tf.float32)\n",
    "    kp = tf.placeholder(tf.float32, name='keep_prob')\n",
    "    target_seq_len = tf.placeholder(tf.int32, [None], name='target_sequence_length')\n",
    "    max_target_seq_len = tf.reduce_max(target_seq_len, name='max_target_len')\n",
    "    source_seq_len = tf.placeholder(tf.int32, [None], name='source_sequence_length')\n",
    "    return input_, targets, lr, kp, target_seq_len, max_target_seq_len, source_seq_len\n",
    "\n",
    "\n",
    "\"\"\"\n",
    "DON'T MODIFY ANYTHING IN THIS CELL THAT IS BELOW THIS LINE\n",
    "\"\"\"\n",
    "tests.test_model_inputs(model_inputs)"
   ]
  },
  {
   "cell_type": "markdown",
   "metadata": {},
   "source": [
    "### Process Decoder Input\n",
    "Implement `process_decoder_input` by removing the last word id from each batch in `target_data` and concat the GO ID to the begining of each batch."
   ]
  },
  {
   "cell_type": "code",
   "execution_count": 8,
   "metadata": {},
   "outputs": [
    {
     "name": "stdout",
     "output_type": "stream",
     "text": [
      "Tests Passed\n"
     ]
    }
   ],
   "source": [
    "def process_decoder_input(target_data, target_vocab_to_int, batch_size):\n",
    "    \"\"\"\n",
    "    Preprocess target data for enco-ding\n",
    "    :param target_data: Target Placehoder\n",
    "    :param target_vocab_to_int: Dictionary to go from the target words to an id\n",
    "    :param batch_size: Batch Size\n",
    "    :return: Preprocessed target data\n",
    "    \"\"\"\n",
    "    # TODO: Implement Function\n",
    "    gos = tf.fill([batch_size, 1], target_vocab_to_int['<GO>'])\n",
    "    output = tf.concat([gos, target_data], axis=1)\n",
    "    return output[:, :-1]\n",
    "\n",
    "\"\"\"\n",
    "DON'T MODIFY ANYTHING IN THIS CELL THAT IS BELOW THIS LINE\n",
    "\"\"\"\n",
    "tests.test_process_encoding_input(process_decoder_input)"
   ]
  },
  {
   "cell_type": "markdown",
   "metadata": {},
   "source": [
    "### Encoding\n",
    "Implement `encoding_layer()` to create a Encoder RNN layer:\n",
    " * Embed the encoder input using [`tf.contrib.layers.embed_sequence`](https://www.tensorflow.org/api_docs/python/tf/contrib/layers/embed_sequence)\n",
    " * Construct a [stacked](https://github.com/tensorflow/tensorflow/blob/6947f65a374ebf29e74bb71e36fd82760056d82c/tensorflow/docs_src/tutorials/recurrent.md#stacking-multiple-lstms) [`tf.contrib.rnn.LSTMCell`](https://www.tensorflow.org/api_docs/python/tf/contrib/rnn/LSTMCell) wrapped in a [`tf.contrib.rnn.DropoutWrapper`](https://www.tensorflow.org/api_docs/python/tf/contrib/rnn/DropoutWrapper)\n",
    " * Pass cell and embedded input to [`tf.nn.dynamic_rnn()`](https://www.tensorflow.org/api_docs/python/tf/nn/dynamic_rnn)"
   ]
  },
  {
   "cell_type": "code",
   "execution_count": 9,
   "metadata": {
    "scrolled": false
   },
   "outputs": [
    {
     "name": "stdout",
     "output_type": "stream",
     "text": [
      "Tests Passed\n"
     ]
    }
   ],
   "source": [
    "from imp import reload\n",
    "reload(tests)\n",
    "\n",
    "def encoding_layer(rnn_inputs, rnn_size, num_layers, keep_prob, \n",
    "                   source_sequence_length, source_vocab_size, \n",
    "                   encoding_embedding_size):\n",
    "    \"\"\"\n",
    "    Create encoding layer\n",
    "    :param rnn_inputs: Inputs for the RNN\n",
    "    :param rnn_size: RNN Size\n",
    "    :param num_layers: Number of layers\n",
    "    :param keep_prob: Dropout keep probability\n",
    "    :param source_sequence_length: a list of the lengths of each sequence in the batch\n",
    "    :param source_vocab_size: vocabulary size of source data\n",
    "    :param encoding_embedding_size: embedding size of source data\n",
    "    :return: tuple (RNN output, RNN state)\n",
    "    \"\"\"\n",
    "    # TODO: Implement Function\n",
    "    \n",
    "    # embedding\n",
    "    embedding = tf.Variable(tf.random_uniform([source_vocab_size, encoding_embedding_size]))\n",
    "    embed = tf.nn.embedding_lookup(embedding, rnn_inputs)\n",
    "    \n",
    "    # lstm\n",
    "    def build_cell(rnn_size, keep_prob):\n",
    "        lstm = tf.contrib.rnn.BasicLSTMCell(rnn_size)\n",
    "        drop = tf.contrib.rnn.DropoutWrapper(lstm, output_keep_prob=keep_prob)\n",
    "        return drop\n",
    "    cell = tf.contrib.rnn.MultiRNNCell([build_cell(rnn_size, keep_prob) for _ in range(num_layers)])\n",
    "    output, state = tf.nn.dynamic_rnn(cell, embed, sequence_length=source_sequence_length, dtype=tf.float32)\n",
    "        \n",
    "    return output, state\n",
    "\n",
    "\"\"\"\n",
    "DON'T MODIFY ANYTHING IN THIS CELL THAT IS BELOW THIS LINE\n",
    "\"\"\"\n",
    "tests.test_encoding_layer(encoding_layer)"
   ]
  },
  {
   "cell_type": "markdown",
   "metadata": {},
   "source": [
    "### Decoding - Training\n",
    "Create a training decoding layer:\n",
    "* Create a [`tf.contrib.seq2seq.TrainingHelper`](https://www.tensorflow.org/api_docs/python/tf/contrib/seq2seq/TrainingHelper) \n",
    "* Create a [`tf.contrib.seq2seq.BasicDecoder`](https://www.tensorflow.org/api_docs/python/tf/contrib/seq2seq/BasicDecoder)\n",
    "* Obtain the decoder outputs from [`tf.contrib.seq2seq.dynamic_decode`](https://www.tensorflow.org/api_docs/python/tf/contrib/seq2seq/dynamic_decode)"
   ]
  },
  {
   "cell_type": "code",
   "execution_count": 14,
   "metadata": {},
   "outputs": [
    {
     "name": "stdout",
     "output_type": "stream",
     "text": [
      "Tests Passed\n"
     ]
    }
   ],
   "source": [
    "def decoding_layer_train(encoder_state, dec_cell, dec_embed_input, \n",
    "                         target_sequence_length, max_summary_length, \n",
    "                         output_layer, keep_prob):\n",
    "    \"\"\"\n",
    "    Create a decoding layer for training\n",
    "    :param encoder_state: Encoder State\n",
    "    :param dec_cell: Decoder RNN Cell\n",
    "    :param dec_embed_input: Decoder embedded input\n",
    "    :param target_sequence_length: The lengths of each sequence in the target batch\n",
    "    :param max_summary_length: The length of the longest sequence in the batch\n",
    "    :param output_layer: Function to apply the output layer\n",
    "    :param keep_prob: Dropout keep probability\n",
    "    :return: BasicDecoderOutput containing training logits and sample_id\n",
    "    \"\"\"\n",
    "    # TODO: Implement Function\n",
    "    \n",
    "    # QUESTION:\n",
    "    # Where should I use `keep_prob` here?\n",
    "    \n",
    "    # training helper\n",
    "    training_helper = tf.contrib.seq2seq.TrainingHelper(\n",
    "        inputs=dec_embed_input,\n",
    "        sequence_length=target_sequence_length,\n",
    "        time_major=False)\n",
    "    # basic decoder\n",
    "    training_decoder = tf.contrib.seq2seq.BasicDecoder(\n",
    "        dec_cell,\n",
    "        training_helper,\n",
    "        encoder_state,\n",
    "        output_layer) \n",
    "    # perform dynamic decoding using the decoder\n",
    "    training_decoder_output = tf.contrib.seq2seq.dynamic_decode(\n",
    "        training_decoder,\n",
    "        impute_finished=True,\n",
    "        maximum_iterations=max_summary_length)[0]\n",
    "    \n",
    "    return training_decoder_output\n",
    "\n",
    "\n",
    "\n",
    "\"\"\"\n",
    "DON'T MODIFY ANYTHING IN THIS CELL THAT IS BELOW THIS LINE\n",
    "\"\"\"\n",
    "tests.test_decoding_layer_train(decoding_layer_train)"
   ]
  },
  {
   "cell_type": "markdown",
   "metadata": {},
   "source": [
    "### Decoding - Inference\n",
    "Create inference decoder:\n",
    "* Create a [`tf.contrib.seq2seq.GreedyEmbeddingHelper`](https://www.tensorflow.org/api_docs/python/tf/contrib/seq2seq/GreedyEmbeddingHelper)\n",
    "* Create a [`tf.contrib.seq2seq.BasicDecoder`](https://www.tensorflow.org/api_docs/python/tf/contrib/seq2seq/BasicDecoder)\n",
    "* Obtain the decoder outputs from [`tf.contrib.seq2seq.dynamic_decode`](https://www.tensorflow.org/api_docs/python/tf/contrib/seq2seq/dynamic_decode)"
   ]
  },
  {
   "cell_type": "code",
   "execution_count": 15,
   "metadata": {
    "scrolled": true
   },
   "outputs": [
    {
     "name": "stdout",
     "output_type": "stream",
     "text": [
      "Tests Passed\n"
     ]
    }
   ],
   "source": [
    "def decoding_layer_infer(encoder_state, dec_cell, dec_embeddings, start_of_sequence_id,\n",
    "                         end_of_sequence_id, max_target_sequence_length,\n",
    "                         vocab_size, output_layer, batch_size, keep_prob):\n",
    "    \"\"\"\n",
    "    Create a decoding layer for inference\n",
    "    :param encoder_state: Encoder state\n",
    "    :param dec_cell: Decoder RNN Cell\n",
    "    :param dec_embeddings: Decoder embeddings\n",
    "    :param start_of_sequence_id: GO ID\n",
    "    :param end_of_sequence_id: EOS Id\n",
    "    :param max_target_sequence_length: Maximum length of target sequences\n",
    "    :param vocab_size: Size of decoder/target vocabulary\n",
    "    :param decoding_scope: TenorFlow Variable Scope for decoding\n",
    "    :param output_layer: Function to apply the output layer\n",
    "    :param batch_size: Batch size\n",
    "    :param keep_prob: Dropout keep probability\n",
    "    :return: BasicDecoderOutput containing inference logits and sample_id\n",
    "    \"\"\"\n",
    "    # TODO: Implement Function\n",
    "    \n",
    "    # QUESTION:\n",
    "    # Where should I use `keep_prob` here?\n",
    "    \n",
    "    # inference helper\n",
    "    inf_helper = tf.contrib.seq2seq.GreedyEmbeddingHelper(\n",
    "        embedding=dec_embeddings,\n",
    "        start_tokens=tf.tile([start_of_sequence_id], [batch_size]), # one start symbol must be assigned for each element of the batch\n",
    "        end_token=end_of_sequence_id)\n",
    "    # basic decoder\n",
    "    inf_decoder = tf.contrib.seq2seq.BasicDecoder(\n",
    "        dec_cell,\n",
    "        inf_helper,\n",
    "        encoder_state,\n",
    "        output_layer) \n",
    "    # perform dynamic decoding using the decoder\n",
    "    inf_decoder_output = tf.contrib.seq2seq.dynamic_decode(\n",
    "        inf_decoder,\n",
    "        impute_finished=True,\n",
    "        maximum_iterations=max_target_sequence_length)[0]\n",
    "    \n",
    "    return inf_decoder_output\n",
    "\n",
    "\n",
    "\n",
    "\"\"\"\n",
    "DON'T MODIFY ANYTHING IN THIS CELL THAT IS BELOW THIS LINE\n",
    "\"\"\"\n",
    "tests.test_decoding_layer_infer(decoding_layer_infer)"
   ]
  },
  {
   "cell_type": "markdown",
   "metadata": {},
   "source": [
    "### Build the Decoding Layer\n",
    "Implement `decoding_layer()` to create a Decoder RNN layer.\n",
    "\n",
    "* Embed the target sequences\n",
    "* Construct the decoder LSTM cell (just like you constructed the encoder cell above)\n",
    "* Create an output layer to map the outputs of the decoder to the elements of our vocabulary\n",
    "* Use the your `decoding_layer_train(encoder_state, dec_cell, dec_embed_input, target_sequence_length, max_target_sequence_length, output_layer, keep_prob)` function to get the training logits.\n",
    "* Use your `decoding_layer_infer(encoder_state, dec_cell, dec_embeddings, start_of_sequence_id, end_of_sequence_id, max_target_sequence_length, vocab_size, output_layer, batch_size, keep_prob)` function to get the inference logits.\n",
    "\n",
    "Note: You'll need to use [tf.variable_scope](https://www.tensorflow.org/api_docs/python/tf/variable_scope) to share variables between training and inference."
   ]
  },
  {
   "cell_type": "code",
   "execution_count": 16,
   "metadata": {
    "scrolled": true
   },
   "outputs": [
    {
     "name": "stdout",
     "output_type": "stream",
     "text": [
      "Tests Passed\n"
     ]
    }
   ],
   "source": [
    "from tensorflow.python.layers.core import Dense\n",
    "\n",
    "def decoding_layer(dec_input, encoder_state,\n",
    "                   target_sequence_length, max_target_sequence_length,\n",
    "                   rnn_size,\n",
    "                   num_layers, target_vocab_to_int, target_vocab_size,\n",
    "                   batch_size, keep_prob, decoding_embedding_size):\n",
    "    \"\"\"\n",
    "    Create decoding layer\n",
    "    :param dec_input: Decoder input\n",
    "    :param encoder_state: Encoder state\n",
    "    :param target_sequence_length: The lengths of each sequence in the target batch\n",
    "    :param max_target_sequence_length: Maximum length of target sequences\n",
    "    :param rnn_size: RNN Size\n",
    "    :param num_layers: Number of layers\n",
    "    :param target_vocab_to_int: Dictionary to go from the target words to an id\n",
    "    :param target_vocab_size: Size of target vocabulary\n",
    "    :param batch_size: The size of the batch\n",
    "    :param keep_prob: Dropout keep probability\n",
    "    :param decoding_embedding_size: Decoding embedding size\n",
    "    :return: Tuple of (Training BasicDecoderOutput, Inference BasicDecoderOutput)\n",
    "    \"\"\"\n",
    "    # TODO: Implement Function\n",
    "    \n",
    "    # embedding\n",
    "    embedding = tf.Variable(tf.random_uniform([batch_size, decoding_embedding_size]))\n",
    "    embed = tf.nn.embedding_lookup(embedding, dec_input)\n",
    "    \n",
    "    # lstm\n",
    "    def build_cell(rnn_size, keep_prob):\n",
    "        lstm = tf.contrib.rnn.BasicLSTMCell(rnn_size)\n",
    "        drop = tf.contrib.rnn.DropoutWrapper(lstm, output_keep_prob=keep_prob)\n",
    "        return drop\n",
    "    cell = tf.contrib.rnn.MultiRNNCell([build_cell(rnn_size, keep_prob) for _ in range(num_layers)])\n",
    "    cell_output, state = tf.nn.dynamic_rnn(cell, embed, sequence_length=target_sequence_length, dtype=tf.float32)\n",
    "    \n",
    "    # output layer\n",
    "    output_layer = Dense(\n",
    "        target_vocab_size,\n",
    "        kernel_initializer=tf.truncated_normal_initializer(mean=0.0, stddev=0.1),\n",
    "        name='output_layer')\n",
    "\n",
    "    # training\n",
    "    with tf.variable_scope(\"decode\"):\n",
    "        train_logits = decoding_layer_train(encoder_state, cell, embed, \n",
    "                        target_sequence_length, max_target_sequence_length, output_layer,\n",
    "                        keep_prob)\n",
    "    # inference\n",
    "    # reuses the same parameters trained by the training process\n",
    "    with tf.variable_scope(\"decode\", reuse=True): \n",
    "        inf_logits = decoding_layer_infer(encoder_state, cell, embedding,\n",
    "                        target_vocab_to_int['<GO>'], target_vocab_to_int['<EOS>'],\n",
    "                        max_target_sequence_length, target_vocab_size, output_layer, \n",
    "                        batch_size, keep_prob)\n",
    "\n",
    "    return train_logits, inf_logits\n",
    "\n",
    "\n",
    "\n",
    "\"\"\"\n",
    "DON'T MODIFY ANYTHING IN THIS CELL THAT IS BELOW THIS LINE\n",
    "\"\"\"\n",
    "tests.test_decoding_layer(decoding_layer)"
   ]
  },
  {
   "cell_type": "markdown",
   "metadata": {},
   "source": [
    "### Build the Neural Network\n",
    "Apply the functions you implemented above to:\n",
    "\n",
    "- Encode the input using your `encoding_layer(rnn_inputs, rnn_size, num_layers, keep_prob,  source_sequence_length, source_vocab_size, encoding_embedding_size)`.\n",
    "- Process target data using your `process_decoder_input(target_data, target_vocab_to_int, batch_size)` function.\n",
    "- Decode the encoded input using your `decoding_layer(dec_input, enc_state, target_sequence_length, max_target_sentence_length, rnn_size, num_layers, target_vocab_to_int, target_vocab_size, batch_size, keep_prob, dec_embedding_size)` function."
   ]
  },
  {
   "cell_type": "code",
   "execution_count": 17,
   "metadata": {
    "scrolled": true
   },
   "outputs": [
    {
     "name": "stdout",
     "output_type": "stream",
     "text": [
      "Tests Passed\n"
     ]
    }
   ],
   "source": [
    "def seq2seq_model(input_data, target_data, keep_prob, batch_size,\n",
    "                  source_sequence_length, target_sequence_length,\n",
    "                  max_target_sentence_length,\n",
    "                  source_vocab_size, target_vocab_size,\n",
    "                  enc_embedding_size, dec_embedding_size,\n",
    "                  rnn_size, num_layers, target_vocab_to_int):\n",
    "    \"\"\"\n",
    "    Build the Sequence-to-Sequence part of the neural network\n",
    "    :param input_data: Input placeholder\n",
    "    :param target_data: Target placeholder\n",
    "    :param keep_prob: Dropout keep probability placeholder\n",
    "    :param batch_size: Batch Size\n",
    "    :param source_sequence_length: Sequence Lengths of source sequences in the batch\n",
    "    :param target_sequence_length: Sequence Lengths of target sequences in the batch\n",
    "    :param source_vocab_size: Source vocabulary size\n",
    "    :param target_vocab_size: Target vocabulary size\n",
    "    :param enc_embedding_size: Decoder embedding size\n",
    "    :param dec_embedding_size: Encoder embedding size\n",
    "    :param rnn_size: RNN Size\n",
    "    :param num_layers: Number of layers\n",
    "    :param target_vocab_to_int: Dictionary to go from the target words to an id\n",
    "    :return: Tuple of (Training BasicDecoderOutput, Inference BasicDecoderOutput)\n",
    "    \"\"\"\n",
    "    # TODO: Implement Function\n",
    "    with tf.variable_scope(\"encode\"):\n",
    "        enc_output, enc_state = encoding_layer(input_data, rnn_size, num_layers, keep_prob,\n",
    "                                           source_sequence_length, source_vocab_size,\n",
    "                                           enc_embedding_size)\n",
    "    \n",
    "    dec_input = process_decoder_input(target_data, target_vocab_to_int, batch_size)\n",
    "    \n",
    "    train_logits, inf_logits = decoding_layer(dec_input, enc_state, target_sequence_length,\n",
    "                                              max_target_sentence_length, rnn_size, num_layers,\n",
    "                                              target_vocab_to_int, target_vocab_size, batch_size,\n",
    "                                              keep_prob, dec_embedding_size)\n",
    "    \n",
    "    return train_logits, inf_logits\n",
    "\n",
    "\n",
    "\"\"\"\n",
    "DON'T MODIFY ANYTHING IN THIS CELL THAT IS BELOW THIS LINE\n",
    "\"\"\"\n",
    "tests.test_seq2seq_model(seq2seq_model)"
   ]
  },
  {
   "cell_type": "markdown",
   "metadata": {},
   "source": [
    "## Neural Network Training\n",
    "### Hyperparameters\n",
    "Tune the following parameters:\n",
    "\n",
    "- Set `epochs` to the number of epochs.\n",
    "- Set `batch_size` to the batch size.\n",
    "- Set `rnn_size` to the size of the RNNs.\n",
    "- Set `num_layers` to the number of layers.\n",
    "- Set `encoding_embedding_size` to the size of the embedding for the encoder.\n",
    "- Set `decoding_embedding_size` to the size of the embedding for the decoder.\n",
    "- Set `learning_rate` to the learning rate.\n",
    "- Set `keep_probability` to the Dropout keep probability\n",
    "- Set `display_step` to state how many steps between each debug output statement"
   ]
  },
  {
   "cell_type": "code",
   "execution_count": 14,
   "metadata": {
    "collapsed": true
   },
   "outputs": [],
   "source": [
    "# Number of Epochs\n",
    "epochs = 10\n",
    "# Batch Size\n",
    "batch_size = 256\n",
    "# RNN Size\n",
    "rnn_size = 128\n",
    "# Number of Layers\n",
    "num_layers = 2\n",
    "# Embedding Size\n",
    "encoding_embedding_size = 256\n",
    "decoding_embedding_size = 256\n",
    "# Learning Rate\n",
    "learning_rate = 0.001\n",
    "# Dropout Keep Probability\n",
    "keep_probability = 0.5\n",
    "display_step = 24"
   ]
  },
  {
   "cell_type": "markdown",
   "metadata": {},
   "source": [
    "### Build the Graph\n",
    "Build the graph using the neural network you implemented."
   ]
  },
  {
   "cell_type": "code",
   "execution_count": 19,
   "metadata": {
    "collapsed": true
   },
   "outputs": [],
   "source": [
    "\"\"\"\n",
    "DON'T MODIFY ANYTHING IN THIS CELL\n",
    "\"\"\"\n",
    "save_path = 'checkpoints/dev'\n",
    "(source_int_text, target_int_text), (source_vocab_to_int, target_vocab_to_int), _ = helper.load_preprocess()\n",
    "max_target_sentence_length = max([len(sentence) for sentence in source_int_text])\n",
    "\n",
    "train_graph = tf.Graph()\n",
    "with train_graph.as_default():\n",
    "    input_data, targets, lr, keep_prob, target_sequence_length, max_target_sequence_length, source_sequence_length = model_inputs()\n",
    "\n",
    "    #sequence_length = tf.placeholder_with_default(max_target_sentence_length, None, name='sequence_length')\n",
    "    input_shape = tf.shape(input_data)\n",
    "\n",
    "    train_logits, inference_logits = seq2seq_model(tf.reverse(input_data, [-1]),\n",
    "                                                   targets,\n",
    "                                                   keep_prob,\n",
    "                                                   batch_size,\n",
    "                                                   source_sequence_length,\n",
    "                                                   target_sequence_length,\n",
    "                                                   max_target_sequence_length,\n",
    "                                                   len(source_vocab_to_int),\n",
    "                                                   len(target_vocab_to_int),\n",
    "                                                   encoding_embedding_size,\n",
    "                                                   decoding_embedding_size,\n",
    "                                                   rnn_size,\n",
    "                                                   num_layers,\n",
    "                                                   target_vocab_to_int)\n",
    "\n",
    "\n",
    "    training_logits = tf.identity(train_logits.rnn_output, name='logits')\n",
    "    inference_logits = tf.identity(inference_logits.sample_id, name='predictions')\n",
    "\n",
    "    masks = tf.sequence_mask(target_sequence_length, max_target_sequence_length, dtype=tf.float32, name='masks')\n",
    "\n",
    "    with tf.name_scope(\"optimization\"):\n",
    "        # Loss function\n",
    "        cost = tf.contrib.seq2seq.sequence_loss(\n",
    "            training_logits,\n",
    "            targets,\n",
    "            masks)\n",
    "\n",
    "        # Optimizer\n",
    "        optimizer = tf.train.AdamOptimizer(lr)\n",
    "\n",
    "        # Gradient Clipping\n",
    "        gradients = optimizer.compute_gradients(cost)\n",
    "        capped_gradients = [(tf.clip_by_value(grad, -1., 1.), var) for grad, var in gradients if grad is not None]\n",
    "        train_op = optimizer.apply_gradients(capped_gradients)\n"
   ]
  },
  {
   "cell_type": "markdown",
   "metadata": {},
   "source": [
    "Batch and pad the source and target sequences"
   ]
  },
  {
   "cell_type": "code",
   "execution_count": 20,
   "metadata": {
    "collapsed": true
   },
   "outputs": [],
   "source": [
    "\"\"\"\n",
    "DON'T MODIFY ANYTHING IN THIS CELL\n",
    "\"\"\"\n",
    "def pad_sentence_batch(sentence_batch, pad_int):\n",
    "    \"\"\"Pad sentences with <PAD> so that each sentence of a batch has the same length\"\"\"\n",
    "    max_sentence = max([len(sentence) for sentence in sentence_batch])\n",
    "    return [sentence + [pad_int] * (max_sentence - len(sentence)) for sentence in sentence_batch]\n",
    "\n",
    "\n",
    "def get_batches(sources, targets, batch_size, source_pad_int, target_pad_int):\n",
    "    \"\"\"Batch targets, sources, and the lengths of their sentences together\"\"\"\n",
    "    for batch_i in range(0, len(sources)//batch_size):\n",
    "        start_i = batch_i * batch_size\n",
    "\n",
    "        # Slice the right amount for the batch\n",
    "        sources_batch = sources[start_i:start_i + batch_size]\n",
    "        targets_batch = targets[start_i:start_i + batch_size]\n",
    "\n",
    "        # Pad\n",
    "        pad_sources_batch = np.array(pad_sentence_batch(sources_batch, source_pad_int))\n",
    "        pad_targets_batch = np.array(pad_sentence_batch(targets_batch, target_pad_int))\n",
    "\n",
    "        # Need the lengths for the _lengths parameters\n",
    "        pad_targets_lengths = []\n",
    "        for target in pad_targets_batch:\n",
    "            pad_targets_lengths.append(len(target))\n",
    "\n",
    "        pad_source_lengths = []\n",
    "        for source in pad_sources_batch:\n",
    "            pad_source_lengths.append(len(source))\n",
    "\n",
    "        yield pad_sources_batch, pad_targets_batch, pad_source_lengths, pad_targets_lengths\n"
   ]
  },
  {
   "cell_type": "markdown",
   "metadata": {},
   "source": [
    "### Train\n",
    "Train the neural network on the preprocessed data. If you have a hard time getting a good loss, check the forms to see if anyone is having the same problem."
   ]
  },
  {
   "cell_type": "code",
   "execution_count": 56,
   "metadata": {
    "scrolled": true
   },
   "outputs": [
    {
     "name": "stdout",
     "output_type": "stream",
     "text": [
      "Epoch   0 Batch   24/538 - Train Accuracy: 0.3090, Validation Accuracy: 0.3404, Loss: 3.2994\n",
      "Epoch   0 Batch   48/538 - Train Accuracy: 0.4072, Validation Accuracy: 0.4361, Loss: 2.7956\n",
      "Epoch   0 Batch   72/538 - Train Accuracy: 0.4321, Validation Accuracy: 0.4592, Loss: 2.6042\n",
      "Epoch   0 Batch   96/538 - Train Accuracy: 0.4457, Validation Accuracy: 0.4703, Loss: 2.2539\n",
      "Epoch   0 Batch  120/538 - Train Accuracy: 0.4270, Validation Accuracy: 0.4831, Loss: 2.1326\n",
      "Epoch   0 Batch  144/538 - Train Accuracy: 0.4354, Validation Accuracy: 0.4757, Loss: 1.9257\n",
      "Epoch   0 Batch  168/538 - Train Accuracy: 0.4203, Validation Accuracy: 0.4862, Loss: 1.7550\n",
      "Epoch   0 Batch  192/538 - Train Accuracy: 0.4312, Validation Accuracy: 0.4688, Loss: 1.5657\n",
      "Epoch   0 Batch  216/538 - Train Accuracy: 0.3965, Validation Accuracy: 0.4682, Loss: 1.5218\n",
      "Epoch   0 Batch  240/538 - Train Accuracy: 0.4365, Validation Accuracy: 0.4657, Loss: 1.4392\n",
      "Epoch   0 Batch  264/538 - Train Accuracy: 0.3889, Validation Accuracy: 0.4450, Loss: 1.3534\n",
      "Epoch   0 Batch  288/538 - Train Accuracy: 0.4311, Validation Accuracy: 0.4895, Loss: 1.3074\n",
      "Epoch   0 Batch  312/538 - Train Accuracy: 0.5487, Validation Accuracy: 0.5082, Loss: 1.1244\n",
      "Epoch   0 Batch  336/538 - Train Accuracy: 0.5149, Validation Accuracy: 0.5250, Loss: 1.1275\n",
      "Epoch   0 Batch  360/538 - Train Accuracy: 0.5176, Validation Accuracy: 0.5472, Loss: 1.1467\n",
      "Epoch   0 Batch  384/538 - Train Accuracy: 0.5249, Validation Accuracy: 0.5550, Loss: 1.0450\n",
      "Epoch   0 Batch  408/538 - Train Accuracy: 0.4822, Validation Accuracy: 0.5641, Loss: 1.0929\n",
      "Epoch   0 Batch  432/538 - Train Accuracy: 0.5655, Validation Accuracy: 0.5678, Loss: 0.9311\n",
      "Epoch   0 Batch  456/538 - Train Accuracy: 0.6229, Validation Accuracy: 0.5728, Loss: 0.8433\n",
      "Epoch   0 Batch  480/538 - Train Accuracy: 0.5871, Validation Accuracy: 0.5785, Loss: 0.9084\n",
      "Epoch   0 Batch  504/538 - Train Accuracy: 0.5781, Validation Accuracy: 0.5929, Loss: 0.9101\n",
      "Epoch   0 Batch  528/538 - Train Accuracy: 0.5639, Validation Accuracy: 0.5998, Loss: 0.9544\n",
      "Epoch   1 Batch   24/538 - Train Accuracy: 0.5677, Validation Accuracy: 0.6035, Loss: 0.8695\n",
      "Epoch   1 Batch   48/538 - Train Accuracy: 0.6218, Validation Accuracy: 0.6025, Loss: 0.8033\n",
      "Epoch   1 Batch   72/538 - Train Accuracy: 0.6190, Validation Accuracy: 0.5806, Loss: 0.8235\n",
      "Epoch   1 Batch   96/538 - Train Accuracy: 0.6058, Validation Accuracy: 0.6016, Loss: 0.7706\n",
      "Epoch   1 Batch  120/538 - Train Accuracy: 0.6012, Validation Accuracy: 0.6007, Loss: 0.7768\n",
      "Epoch   1 Batch  144/538 - Train Accuracy: 0.5891, Validation Accuracy: 0.5927, Loss: 0.8008\n",
      "Epoch   1 Batch  168/538 - Train Accuracy: 0.5803, Validation Accuracy: 0.5998, Loss: 0.7926\n",
      "Epoch   1 Batch  192/538 - Train Accuracy: 0.5919, Validation Accuracy: 0.6133, Loss: 0.7355\n",
      "Epoch   1 Batch  216/538 - Train Accuracy: 0.5703, Validation Accuracy: 0.6248, Loss: 0.7611\n",
      "Epoch   1 Batch  240/538 - Train Accuracy: 0.5941, Validation Accuracy: 0.6099, Loss: 0.7520\n",
      "Epoch   1 Batch  264/538 - Train Accuracy: 0.6006, Validation Accuracy: 0.6250, Loss: 0.7313\n",
      "Epoch   1 Batch  288/538 - Train Accuracy: 0.6018, Validation Accuracy: 0.6270, Loss: 0.7362\n",
      "Epoch   1 Batch  312/538 - Train Accuracy: 0.6674, Validation Accuracy: 0.6271, Loss: 0.6369\n",
      "Epoch   1 Batch  336/538 - Train Accuracy: 0.6306, Validation Accuracy: 0.6319, Loss: 0.6758\n",
      "Epoch   1 Batch  360/538 - Train Accuracy: 0.6191, Validation Accuracy: 0.6238, Loss: 0.7067\n",
      "Epoch   1 Batch  384/538 - Train Accuracy: 0.6548, Validation Accuracy: 0.6296, Loss: 0.6526\n",
      "Epoch   1 Batch  408/538 - Train Accuracy: 0.5863, Validation Accuracy: 0.6314, Loss: 0.7191\n",
      "Epoch   1 Batch  432/538 - Train Accuracy: 0.6616, Validation Accuracy: 0.6264, Loss: 0.6009\n",
      "Epoch   1 Batch  456/538 - Train Accuracy: 0.6842, Validation Accuracy: 0.6277, Loss: 0.5872\n",
      "Epoch   1 Batch  480/538 - Train Accuracy: 0.6572, Validation Accuracy: 0.6454, Loss: 0.6214\n",
      "Epoch   1 Batch  504/538 - Train Accuracy: 0.6369, Validation Accuracy: 0.6330, Loss: 0.6336\n",
      "Epoch   1 Batch  528/538 - Train Accuracy: 0.6092, Validation Accuracy: 0.6213, Loss: 0.6782\n",
      "Epoch   2 Batch   24/538 - Train Accuracy: 0.6198, Validation Accuracy: 0.6321, Loss: 0.6173\n",
      "Epoch   2 Batch   48/538 - Train Accuracy: 0.6637, Validation Accuracy: 0.6408, Loss: 0.5834\n",
      "Epoch   2 Batch   72/538 - Train Accuracy: 0.6704, Validation Accuracy: 0.6436, Loss: 0.6005\n",
      "Epoch   2 Batch   96/538 - Train Accuracy: 0.6670, Validation Accuracy: 0.6404, Loss: 0.5782\n",
      "Epoch   2 Batch  120/538 - Train Accuracy: 0.6576, Validation Accuracy: 0.6520, Loss: 0.5808\n",
      "Epoch   2 Batch  144/538 - Train Accuracy: 0.6498, Validation Accuracy: 0.6344, Loss: 0.6058\n",
      "Epoch   2 Batch  168/538 - Train Accuracy: 0.6406, Validation Accuracy: 0.6634, Loss: 0.6185\n",
      "Epoch   2 Batch  192/538 - Train Accuracy: 0.6516, Validation Accuracy: 0.6571, Loss: 0.5657\n",
      "Epoch   2 Batch  216/538 - Train Accuracy: 0.6502, Validation Accuracy: 0.6603, Loss: 0.5927\n",
      "Epoch   2 Batch  240/538 - Train Accuracy: 0.6689, Validation Accuracy: 0.6737, Loss: 0.5813\n",
      "Epoch   2 Batch  264/538 - Train Accuracy: 0.6586, Validation Accuracy: 0.6671, Loss: 0.5633\n",
      "Epoch   2 Batch  288/538 - Train Accuracy: 0.6652, Validation Accuracy: 0.6841, Loss: 0.5606\n",
      "Epoch   2 Batch  312/538 - Train Accuracy: 0.6989, Validation Accuracy: 0.6705, Loss: 0.4804\n",
      "Epoch   2 Batch  336/538 - Train Accuracy: 0.6884, Validation Accuracy: 0.6847, Loss: 0.5120\n",
      "Epoch   2 Batch  360/538 - Train Accuracy: 0.6824, Validation Accuracy: 0.6758, Loss: 0.5404\n",
      "Epoch   2 Batch  384/538 - Train Accuracy: 0.6920, Validation Accuracy: 0.6918, Loss: 0.4888\n",
      "Epoch   2 Batch  408/538 - Train Accuracy: 0.6846, Validation Accuracy: 0.6955, Loss: 0.5326\n",
      "Epoch   2 Batch  432/538 - Train Accuracy: 0.7333, Validation Accuracy: 0.7049, Loss: 0.4547\n",
      "Epoch   2 Batch  456/538 - Train Accuracy: 0.7546, Validation Accuracy: 0.6916, Loss: 0.4447\n",
      "Epoch   2 Batch  480/538 - Train Accuracy: 0.7143, Validation Accuracy: 0.7083, Loss: 0.4715\n",
      "Epoch   2 Batch  504/538 - Train Accuracy: 0.7271, Validation Accuracy: 0.7161, Loss: 0.4558\n",
      "Epoch   2 Batch  528/538 - Train Accuracy: 0.6965, Validation Accuracy: 0.7184, Loss: 0.5037\n",
      "Epoch   3 Batch   24/538 - Train Accuracy: 0.7321, Validation Accuracy: 0.7182, Loss: 0.4500\n",
      "Epoch   3 Batch   48/538 - Train Accuracy: 0.7407, Validation Accuracy: 0.7250, Loss: 0.4241\n",
      "Epoch   3 Batch   72/538 - Train Accuracy: 0.7487, Validation Accuracy: 0.7189, Loss: 0.4454\n",
      "Epoch   3 Batch   96/538 - Train Accuracy: 0.7383, Validation Accuracy: 0.7214, Loss: 0.4135\n",
      "Epoch   3 Batch  120/538 - Train Accuracy: 0.7326, Validation Accuracy: 0.7223, Loss: 0.4219\n",
      "Epoch   3 Batch  144/538 - Train Accuracy: 0.7369, Validation Accuracy: 0.7166, Loss: 0.4448\n",
      "Epoch   3 Batch  168/538 - Train Accuracy: 0.7100, Validation Accuracy: 0.7314, Loss: 0.4297\n",
      "Epoch   3 Batch  192/538 - Train Accuracy: 0.7630, Validation Accuracy: 0.7381, Loss: 0.4100\n",
      "Epoch   3 Batch  216/538 - Train Accuracy: 0.7518, Validation Accuracy: 0.7280, Loss: 0.4147\n",
      "Epoch   3 Batch  240/538 - Train Accuracy: 0.7607, Validation Accuracy: 0.7441, Loss: 0.4087\n",
      "Epoch   3 Batch  264/538 - Train Accuracy: 0.7316, Validation Accuracy: 0.7353, Loss: 0.3925\n",
      "Epoch   3 Batch  288/538 - Train Accuracy: 0.7508, Validation Accuracy: 0.7436, Loss: 0.3930\n",
      "Epoch   3 Batch  312/538 - Train Accuracy: 0.7784, Validation Accuracy: 0.7386, Loss: 0.3481\n",
      "Epoch   3 Batch  336/538 - Train Accuracy: 0.7731, Validation Accuracy: 0.7397, Loss: 0.3638\n",
      "Epoch   3 Batch  360/538 - Train Accuracy: 0.7521, Validation Accuracy: 0.7566, Loss: 0.3821\n",
      "Epoch   3 Batch  384/538 - Train Accuracy: 0.7630, Validation Accuracy: 0.7571, Loss: 0.3594\n",
      "Epoch   3 Batch  408/538 - Train Accuracy: 0.7717, Validation Accuracy: 0.7578, Loss: 0.3858\n",
      "Epoch   3 Batch  432/538 - Train Accuracy: 0.8020, Validation Accuracy: 0.7559, Loss: 0.3330\n",
      "Epoch   3 Batch  456/538 - Train Accuracy: 0.8257, Validation Accuracy: 0.7591, Loss: 0.3230\n",
      "Epoch   3 Batch  480/538 - Train Accuracy: 0.7991, Validation Accuracy: 0.7637, Loss: 0.3359\n",
      "Epoch   3 Batch  504/538 - Train Accuracy: 0.8076, Validation Accuracy: 0.7915, Loss: 0.3200\n",
      "Epoch   3 Batch  528/538 - Train Accuracy: 0.7975, Validation Accuracy: 0.7690, Loss: 0.3603\n",
      "Epoch   4 Batch   24/538 - Train Accuracy: 0.8201, Validation Accuracy: 0.8031, Loss: 0.3156\n"
     ]
    },
    {
     "name": "stdout",
     "output_type": "stream",
     "text": [
      "Epoch   4 Batch   48/538 - Train Accuracy: 0.8227, Validation Accuracy: 0.7940, Loss: 0.2990\n",
      "Epoch   4 Batch   72/538 - Train Accuracy: 0.8274, Validation Accuracy: 0.8026, Loss: 0.3113\n",
      "Epoch   4 Batch   96/538 - Train Accuracy: 0.8207, Validation Accuracy: 0.8077, Loss: 0.2947\n",
      "Epoch   4 Batch  120/538 - Train Accuracy: 0.8373, Validation Accuracy: 0.8230, Loss: 0.2830\n",
      "Epoch   4 Batch  144/538 - Train Accuracy: 0.8322, Validation Accuracy: 0.7979, Loss: 0.3201\n",
      "Epoch   4 Batch  168/538 - Train Accuracy: 0.8262, Validation Accuracy: 0.8359, Loss: 0.3060\n",
      "Epoch   4 Batch  192/538 - Train Accuracy: 0.8350, Validation Accuracy: 0.8175, Loss: 0.2845\n",
      "Epoch   4 Batch  216/538 - Train Accuracy: 0.8391, Validation Accuracy: 0.8354, Loss: 0.2934\n",
      "Epoch   4 Batch  240/538 - Train Accuracy: 0.8395, Validation Accuracy: 0.8288, Loss: 0.2814\n",
      "Epoch   4 Batch  264/538 - Train Accuracy: 0.8303, Validation Accuracy: 0.8535, Loss: 0.2768\n",
      "Epoch   4 Batch  288/538 - Train Accuracy: 0.8576, Validation Accuracy: 0.8377, Loss: 0.2699\n",
      "Epoch   4 Batch  312/538 - Train Accuracy: 0.8404, Validation Accuracy: 0.8480, Loss: 0.2465\n",
      "Epoch   4 Batch  336/538 - Train Accuracy: 0.8579, Validation Accuracy: 0.8429, Loss: 0.2564\n",
      "Epoch   4 Batch  360/538 - Train Accuracy: 0.8293, Validation Accuracy: 0.8567, Loss: 0.2717\n",
      "Epoch   4 Batch  384/538 - Train Accuracy: 0.8451, Validation Accuracy: 0.8423, Loss: 0.2472\n",
      "Epoch   4 Batch  408/538 - Train Accuracy: 0.8336, Validation Accuracy: 0.8507, Loss: 0.2779\n",
      "Epoch   4 Batch  432/538 - Train Accuracy: 0.8826, Validation Accuracy: 0.8597, Loss: 0.2380\n",
      "Epoch   4 Batch  456/538 - Train Accuracy: 0.8997, Validation Accuracy: 0.8635, Loss: 0.2414\n",
      "Epoch   4 Batch  480/538 - Train Accuracy: 0.8759, Validation Accuracy: 0.8574, Loss: 0.2469\n",
      "Epoch   4 Batch  504/538 - Train Accuracy: 0.8957, Validation Accuracy: 0.8651, Loss: 0.2216\n",
      "Epoch   4 Batch  528/538 - Train Accuracy: 0.8538, Validation Accuracy: 0.8700, Loss: 0.2694\n",
      "Epoch   5 Batch   24/538 - Train Accuracy: 0.8943, Validation Accuracy: 0.8777, Loss: 0.2315\n",
      "Epoch   5 Batch   48/538 - Train Accuracy: 0.8579, Validation Accuracy: 0.8697, Loss: 0.2266\n",
      "Epoch   5 Batch   72/538 - Train Accuracy: 0.8895, Validation Accuracy: 0.8746, Loss: 0.2263\n",
      "Epoch   5 Batch   96/538 - Train Accuracy: 0.9042, Validation Accuracy: 0.8775, Loss: 0.2130\n",
      "Epoch   5 Batch  120/538 - Train Accuracy: 0.8834, Validation Accuracy: 0.8805, Loss: 0.2068\n",
      "Epoch   5 Batch  144/538 - Train Accuracy: 0.8859, Validation Accuracy: 0.8757, Loss: 0.2361\n",
      "Epoch   5 Batch  168/538 - Train Accuracy: 0.8686, Validation Accuracy: 0.8915, Loss: 0.2380\n",
      "Epoch   5 Batch  192/538 - Train Accuracy: 0.9007, Validation Accuracy: 0.8812, Loss: 0.1930\n",
      "Epoch   5 Batch  216/538 - Train Accuracy: 0.9084, Validation Accuracy: 0.8734, Loss: 0.2143\n",
      "Epoch   5 Batch  240/538 - Train Accuracy: 0.8881, Validation Accuracy: 0.8929, Loss: 0.2231\n",
      "Epoch   5 Batch  264/538 - Train Accuracy: 0.8639, Validation Accuracy: 0.8851, Loss: 0.2066\n",
      "Epoch   5 Batch  288/538 - Train Accuracy: 0.9051, Validation Accuracy: 0.8860, Loss: 0.1971\n",
      "Epoch   5 Batch  312/538 - Train Accuracy: 0.8885, Validation Accuracy: 0.9047, Loss: 0.1784\n",
      "Epoch   5 Batch  336/538 - Train Accuracy: 0.8958, Validation Accuracy: 0.8926, Loss: 0.1833\n",
      "Epoch   5 Batch  360/538 - Train Accuracy: 0.8725, Validation Accuracy: 0.9027, Loss: 0.1827\n",
      "Epoch   5 Batch  384/538 - Train Accuracy: 0.8746, Validation Accuracy: 0.9015, Loss: 0.1763\n",
      "Epoch   5 Batch  408/538 - Train Accuracy: 0.8865, Validation Accuracy: 0.8965, Loss: 0.1926\n",
      "Epoch   5 Batch  432/538 - Train Accuracy: 0.9192, Validation Accuracy: 0.8894, Loss: 0.1799\n",
      "Epoch   5 Batch  456/538 - Train Accuracy: 0.9193, Validation Accuracy: 0.8961, Loss: 0.1800\n",
      "Epoch   5 Batch  480/538 - Train Accuracy: 0.9036, Validation Accuracy: 0.8869, Loss: 0.1751\n",
      "Epoch   5 Batch  504/538 - Train Accuracy: 0.9162, Validation Accuracy: 0.8974, Loss: 0.1622\n",
      "Epoch   5 Batch  528/538 - Train Accuracy: 0.8882, Validation Accuracy: 0.9043, Loss: 0.1940\n",
      "Epoch   6 Batch   24/538 - Train Accuracy: 0.9239, Validation Accuracy: 0.9020, Loss: 0.1653\n",
      "Epoch   6 Batch   48/538 - Train Accuracy: 0.8834, Validation Accuracy: 0.9002, Loss: 0.1640\n",
      "Epoch   6 Batch   72/538 - Train Accuracy: 0.9055, Validation Accuracy: 0.9068, Loss: 0.1853\n",
      "Epoch   6 Batch   96/538 - Train Accuracy: 0.9273, Validation Accuracy: 0.9228, Loss: 0.1465\n",
      "Epoch   6 Batch  120/538 - Train Accuracy: 0.9250, Validation Accuracy: 0.9197, Loss: 0.1345\n",
      "Epoch   6 Batch  144/538 - Train Accuracy: 0.9031, Validation Accuracy: 0.9093, Loss: 0.1661\n",
      "Epoch   6 Batch  168/538 - Train Accuracy: 0.8814, Validation Accuracy: 0.9228, Loss: 0.1719\n",
      "Epoch   6 Batch  192/538 - Train Accuracy: 0.9209, Validation Accuracy: 0.9045, Loss: 0.1419\n",
      "Epoch   6 Batch  216/538 - Train Accuracy: 0.9373, Validation Accuracy: 0.9121, Loss: 0.1513\n",
      "Epoch   6 Batch  240/538 - Train Accuracy: 0.8996, Validation Accuracy: 0.9114, Loss: 0.1570\n",
      "Epoch   6 Batch  264/538 - Train Accuracy: 0.8910, Validation Accuracy: 0.9189, Loss: 0.1457\n",
      "Epoch   6 Batch  288/538 - Train Accuracy: 0.9221, Validation Accuracy: 0.9064, Loss: 0.1464\n",
      "Epoch   6 Batch  312/538 - Train Accuracy: 0.9062, Validation Accuracy: 0.9228, Loss: 0.1301\n",
      "Epoch   6 Batch  336/538 - Train Accuracy: 0.9103, Validation Accuracy: 0.9306, Loss: 0.1290\n",
      "Epoch   6 Batch  360/538 - Train Accuracy: 0.8988, Validation Accuracy: 0.9164, Loss: 0.1360\n",
      "Epoch   6 Batch  384/538 - Train Accuracy: 0.8979, Validation Accuracy: 0.9281, Loss: 0.1408\n",
      "Epoch   6 Batch  408/538 - Train Accuracy: 0.9062, Validation Accuracy: 0.9290, Loss: 0.1447\n",
      "Epoch   6 Batch  432/538 - Train Accuracy: 0.9199, Validation Accuracy: 0.9165, Loss: 0.1452\n",
      "Epoch   6 Batch  456/538 - Train Accuracy: 0.9315, Validation Accuracy: 0.9331, Loss: 0.1388\n",
      "Epoch   6 Batch  480/538 - Train Accuracy: 0.9306, Validation Accuracy: 0.9299, Loss: 0.1346\n",
      "Epoch   6 Batch  504/538 - Train Accuracy: 0.9514, Validation Accuracy: 0.9265, Loss: 0.1165\n",
      "Epoch   6 Batch  528/538 - Train Accuracy: 0.9196, Validation Accuracy: 0.9306, Loss: 0.1345\n",
      "Epoch   7 Batch   24/538 - Train Accuracy: 0.9440, Validation Accuracy: 0.9210, Loss: 0.1301\n",
      "Epoch   7 Batch   48/538 - Train Accuracy: 0.9247, Validation Accuracy: 0.9244, Loss: 0.1248\n",
      "Epoch   7 Batch   72/538 - Train Accuracy: 0.9379, Validation Accuracy: 0.9144, Loss: 0.1436\n",
      "Epoch   7 Batch   96/538 - Train Accuracy: 0.9306, Validation Accuracy: 0.9290, Loss: 0.1032\n",
      "Epoch   7 Batch  120/538 - Train Accuracy: 0.9461, Validation Accuracy: 0.9286, Loss: 0.1106\n",
      "Epoch   7 Batch  144/538 - Train Accuracy: 0.9305, Validation Accuracy: 0.9384, Loss: 0.1300\n",
      "Epoch   7 Batch  168/538 - Train Accuracy: 0.8957, Validation Accuracy: 0.9391, Loss: 0.1383\n",
      "Epoch   7 Batch  192/538 - Train Accuracy: 0.9222, Validation Accuracy: 0.9352, Loss: 0.1193\n",
      "Epoch   7 Batch  216/538 - Train Accuracy: 0.9369, Validation Accuracy: 0.9462, Loss: 0.1158\n",
      "Epoch   7 Batch  240/538 - Train Accuracy: 0.9342, Validation Accuracy: 0.9299, Loss: 0.1182\n",
      "Epoch   7 Batch  264/538 - Train Accuracy: 0.9074, Validation Accuracy: 0.9419, Loss: 0.1218\n",
      "Epoch   7 Batch  288/538 - Train Accuracy: 0.9336, Validation Accuracy: 0.9320, Loss: 0.1082\n",
      "Epoch   7 Batch  312/538 - Train Accuracy: 0.9192, Validation Accuracy: 0.9411, Loss: 0.1009\n",
      "Epoch   7 Batch  336/538 - Train Accuracy: 0.9345, Validation Accuracy: 0.9357, Loss: 0.1036\n",
      "Epoch   7 Batch  360/538 - Train Accuracy: 0.9141, Validation Accuracy: 0.9434, Loss: 0.0984\n",
      "Epoch   7 Batch  384/538 - Train Accuracy: 0.9092, Validation Accuracy: 0.9476, Loss: 0.0969\n",
      "Epoch   7 Batch  408/538 - Train Accuracy: 0.9213, Validation Accuracy: 0.9409, Loss: 0.1256\n",
      "Epoch   7 Batch  432/538 - Train Accuracy: 0.9293, Validation Accuracy: 0.9334, Loss: 0.1050\n",
      "Epoch   7 Batch  456/538 - Train Accuracy: 0.9438, Validation Accuracy: 0.9375, Loss: 0.1261\n",
      "Epoch   7 Batch  480/538 - Train Accuracy: 0.9371, Validation Accuracy: 0.9263, Loss: 0.1071\n",
      "Epoch   7 Batch  504/538 - Train Accuracy: 0.9588, Validation Accuracy: 0.9332, Loss: 0.0912\n",
      "Epoch   7 Batch  528/538 - Train Accuracy: 0.9282, Validation Accuracy: 0.9442, Loss: 0.1117\n",
      "Epoch   8 Batch   24/538 - Train Accuracy: 0.9516, Validation Accuracy: 0.9265, Loss: 0.1040\n",
      "Epoch   8 Batch   48/538 - Train Accuracy: 0.9451, Validation Accuracy: 0.9482, Loss: 0.0945\n"
     ]
    },
    {
     "name": "stdout",
     "output_type": "stream",
     "text": [
      "Epoch   8 Batch   72/538 - Train Accuracy: 0.9414, Validation Accuracy: 0.9400, Loss: 0.1097\n",
      "Epoch   8 Batch   96/538 - Train Accuracy: 0.9466, Validation Accuracy: 0.9405, Loss: 0.0889\n",
      "Epoch   8 Batch  120/538 - Train Accuracy: 0.9594, Validation Accuracy: 0.9359, Loss: 0.0768\n",
      "Epoch   8 Batch  144/538 - Train Accuracy: 0.9365, Validation Accuracy: 0.9508, Loss: 0.1158\n",
      "Epoch   8 Batch  168/538 - Train Accuracy: 0.9117, Validation Accuracy: 0.9432, Loss: 0.1079\n",
      "Epoch   8 Batch  192/538 - Train Accuracy: 0.9461, Validation Accuracy: 0.9423, Loss: 0.0939\n",
      "Epoch   8 Batch  216/538 - Train Accuracy: 0.9475, Validation Accuracy: 0.9517, Loss: 0.0977\n",
      "Epoch   8 Batch  240/538 - Train Accuracy: 0.9398, Validation Accuracy: 0.9553, Loss: 0.0985\n",
      "Epoch   8 Batch  264/538 - Train Accuracy: 0.9170, Validation Accuracy: 0.9487, Loss: 0.0967\n",
      "Epoch   8 Batch  288/538 - Train Accuracy: 0.9383, Validation Accuracy: 0.9379, Loss: 0.0868\n",
      "Epoch   8 Batch  312/538 - Train Accuracy: 0.9375, Validation Accuracy: 0.9569, Loss: 0.0845\n",
      "Epoch   8 Batch  336/538 - Train Accuracy: 0.9448, Validation Accuracy: 0.9490, Loss: 0.0871\n",
      "Epoch   8 Batch  360/538 - Train Accuracy: 0.9311, Validation Accuracy: 0.9428, Loss: 0.0879\n",
      "Epoch   8 Batch  384/538 - Train Accuracy: 0.9224, Validation Accuracy: 0.9474, Loss: 0.0916\n",
      "Epoch   8 Batch  408/538 - Train Accuracy: 0.9260, Validation Accuracy: 0.9393, Loss: 0.1020\n",
      "Epoch   8 Batch  432/538 - Train Accuracy: 0.9299, Validation Accuracy: 0.9531, Loss: 0.0925\n",
      "Epoch   8 Batch  456/538 - Train Accuracy: 0.9479, Validation Accuracy: 0.9455, Loss: 0.1057\n",
      "Epoch   8 Batch  480/538 - Train Accuracy: 0.9507, Validation Accuracy: 0.9359, Loss: 0.0860\n",
      "Epoch   8 Batch  504/538 - Train Accuracy: 0.9633, Validation Accuracy: 0.9405, Loss: 0.0740\n",
      "Epoch   8 Batch  528/538 - Train Accuracy: 0.9348, Validation Accuracy: 0.9457, Loss: 0.0976\n",
      "Epoch   9 Batch   24/538 - Train Accuracy: 0.9589, Validation Accuracy: 0.9469, Loss: 0.0881\n",
      "Epoch   9 Batch   48/538 - Train Accuracy: 0.9435, Validation Accuracy: 0.9544, Loss: 0.0891\n",
      "Epoch   9 Batch   72/538 - Train Accuracy: 0.9451, Validation Accuracy: 0.9538, Loss: 0.0947\n",
      "Epoch   9 Batch   96/538 - Train Accuracy: 0.9518, Validation Accuracy: 0.9549, Loss: 0.0769\n",
      "Epoch   9 Batch  120/538 - Train Accuracy: 0.9582, Validation Accuracy: 0.9498, Loss: 0.0643\n",
      "Epoch   9 Batch  144/538 - Train Accuracy: 0.9324, Validation Accuracy: 0.9412, Loss: 0.0905\n",
      "Epoch   9 Batch  168/538 - Train Accuracy: 0.9234, Validation Accuracy: 0.9498, Loss: 0.0983\n",
      "Epoch   9 Batch  192/538 - Train Accuracy: 0.9524, Validation Accuracy: 0.9396, Loss: 0.0820\n",
      "Epoch   9 Batch  216/538 - Train Accuracy: 0.9570, Validation Accuracy: 0.9421, Loss: 0.0833\n",
      "Epoch   9 Batch  240/538 - Train Accuracy: 0.9369, Validation Accuracy: 0.9501, Loss: 0.0821\n",
      "Epoch   9 Batch  264/538 - Train Accuracy: 0.9318, Validation Accuracy: 0.9409, Loss: 0.0920\n",
      "Epoch   9 Batch  288/538 - Train Accuracy: 0.9416, Validation Accuracy: 0.9373, Loss: 0.0829\n",
      "Epoch   9 Batch  312/538 - Train Accuracy: 0.9499, Validation Accuracy: 0.9551, Loss: 0.0742\n",
      "Epoch   9 Batch  336/538 - Train Accuracy: 0.9485, Validation Accuracy: 0.9544, Loss: 0.0737\n",
      "Epoch   9 Batch  360/538 - Train Accuracy: 0.9307, Validation Accuracy: 0.9565, Loss: 0.0820\n",
      "Epoch   9 Batch  384/538 - Train Accuracy: 0.9174, Validation Accuracy: 0.9494, Loss: 0.0726\n",
      "Epoch   9 Batch  408/538 - Train Accuracy: 0.9297, Validation Accuracy: 0.9364, Loss: 0.0856\n",
      "Epoch   9 Batch  432/538 - Train Accuracy: 0.9396, Validation Accuracy: 0.9458, Loss: 0.0862\n",
      "Epoch   9 Batch  456/538 - Train Accuracy: 0.9404, Validation Accuracy: 0.9561, Loss: 0.0963\n",
      "Epoch   9 Batch  480/538 - Train Accuracy: 0.9518, Validation Accuracy: 0.9505, Loss: 0.0744\n",
      "Epoch   9 Batch  504/538 - Train Accuracy: 0.9652, Validation Accuracy: 0.9572, Loss: 0.0672\n",
      "Epoch   9 Batch  528/538 - Train Accuracy: 0.9490, Validation Accuracy: 0.9418, Loss: 0.0827\n",
      "Model Trained and Saved\n"
     ]
    }
   ],
   "source": [
    "\"\"\"\n",
    "DON'T MODIFY ANYTHING IN THIS CELL\n",
    "\"\"\"\n",
    "def get_accuracy(target, logits):\n",
    "    \"\"\"\n",
    "    Calculate accuracy\n",
    "    \"\"\"\n",
    "    max_seq = max(target.shape[1], logits.shape[1])\n",
    "    if max_seq - target.shape[1]:\n",
    "        target = np.pad(\n",
    "            target,\n",
    "            [(0,0),(0,max_seq - target.shape[1])],\n",
    "            'constant')\n",
    "    if max_seq - logits.shape[1]:\n",
    "        logits = np.pad(\n",
    "            logits,\n",
    "            [(0,0),(0,max_seq - logits.shape[1])],\n",
    "            'constant')\n",
    "\n",
    "    return np.mean(np.equal(target, logits))\n",
    "\n",
    "# Split data to training and validation sets\n",
    "train_source = source_int_text[batch_size:]\n",
    "train_target = target_int_text[batch_size:]\n",
    "valid_source = source_int_text[:batch_size]\n",
    "valid_target = target_int_text[:batch_size]\n",
    "(valid_sources_batch, valid_targets_batch, valid_sources_lengths, valid_targets_lengths ) = next(get_batches(valid_source,\n",
    "                                                                                                             valid_target,\n",
    "                                                                                                             batch_size,\n",
    "                                                                                                             source_vocab_to_int['<PAD>'],\n",
    "                                                                                                             target_vocab_to_int['<PAD>']))                                                                                                  \n",
    "with tf.Session(graph=train_graph) as sess:\n",
    "    sess.run(tf.global_variables_initializer())\n",
    "\n",
    "    for epoch_i in range(epochs):\n",
    "        for batch_i, (source_batch, target_batch, sources_lengths, targets_lengths) in enumerate(\n",
    "                get_batches(train_source, train_target, batch_size,\n",
    "                            source_vocab_to_int['<PAD>'],\n",
    "                            target_vocab_to_int['<PAD>'])):\n",
    "\n",
    "            _, loss = sess.run(\n",
    "                [train_op, cost],\n",
    "                {input_data: source_batch,\n",
    "                 targets: target_batch,\n",
    "                 lr: learning_rate,\n",
    "                 target_sequence_length: targets_lengths,\n",
    "                 source_sequence_length: sources_lengths,\n",
    "                 keep_prob: keep_probability})\n",
    "\n",
    "\n",
    "            if batch_i % display_step == 0 and batch_i > 0:\n",
    "\n",
    "\n",
    "                batch_train_logits = sess.run(\n",
    "                    inference_logits,\n",
    "                    {input_data: source_batch,\n",
    "                     source_sequence_length: sources_lengths,\n",
    "                     target_sequence_length: targets_lengths,\n",
    "                     keep_prob: 1.0})\n",
    "\n",
    "\n",
    "                batch_valid_logits = sess.run(\n",
    "                    inference_logits,\n",
    "                    {input_data: valid_sources_batch,\n",
    "                     source_sequence_length: valid_sources_lengths,\n",
    "                     target_sequence_length: valid_targets_lengths,\n",
    "                     keep_prob: 1.0})\n",
    "\n",
    "                train_acc = get_accuracy(target_batch, batch_train_logits)\n",
    "\n",
    "                valid_acc = get_accuracy(valid_targets_batch, batch_valid_logits)\n",
    "\n",
    "                print('Epoch {:>3} Batch {:>4}/{} - Train Accuracy: {:>6.4f}, Validation Accuracy: {:>6.4f}, Loss: {:>6.4f}'\n",
    "                      .format(epoch_i, batch_i, len(source_int_text) // batch_size, train_acc, valid_acc, loss))\n",
    "\n",
    "    # Save Model\n",
    "    saver = tf.train.Saver()\n",
    "    saver.save(sess, save_path)\n",
    "    print('Model Trained and Saved')"
   ]
  },
  {
   "cell_type": "markdown",
   "metadata": {},
   "source": [
    "### Save Parameters\n",
    "Save the `batch_size` and `save_path` parameters for inference."
   ]
  },
  {
   "cell_type": "code",
   "execution_count": 58,
   "metadata": {
    "collapsed": true
   },
   "outputs": [],
   "source": [
    "\"\"\"\n",
    "DON'T MODIFY ANYTHING IN THIS CELL\n",
    "\"\"\"\n",
    "# Save parameters for checkpoint\n",
    "helper.save_params(save_path)"
   ]
  },
  {
   "cell_type": "markdown",
   "metadata": {},
   "source": [
    "# Checkpoint"
   ]
  },
  {
   "cell_type": "code",
   "execution_count": 1,
   "metadata": {
    "collapsed": true
   },
   "outputs": [],
   "source": [
    "\"\"\"\n",
    "DON'T MODIFY ANYTHING IN THIS CELL\n",
    "\"\"\"\n",
    "import tensorflow as tf\n",
    "import numpy as np\n",
    "import helper\n",
    "import problem_unittests as tests\n",
    "\n",
    "_, (source_vocab_to_int, target_vocab_to_int), (source_int_to_vocab, target_int_to_vocab) = helper.load_preprocess()\n",
    "load_path = helper.load_params()"
   ]
  },
  {
   "cell_type": "markdown",
   "metadata": {},
   "source": [
    "## Sentence to Sequence\n",
    "To feed a sentence into the model for translation, you first need to preprocess it.  Implement the function `sentence_to_seq()` to preprocess new sentences.\n",
    "\n",
    "- Convert the sentence to lowercase\n",
    "- Convert words into ids using `vocab_to_int`\n",
    " - Convert words not in the vocabulary, to the `<UNK>` word id."
   ]
  },
  {
   "cell_type": "code",
   "execution_count": 2,
   "metadata": {},
   "outputs": [
    {
     "name": "stdout",
     "output_type": "stream",
     "text": [
      "Tests Passed\n"
     ]
    }
   ],
   "source": [
    "def sentence_to_seq(sentence, vocab_to_int):\n",
    "    \"\"\"\n",
    "    Convert a sentence to a sequence of ids\n",
    "    :param sentence: String\n",
    "    :param vocab_to_int: Dictionary to go from the words to an id\n",
    "    :return: List of word ids\n",
    "    \"\"\"\n",
    "    # TODO: Implement Function\n",
    "    sentence = sentence.lower()\n",
    "    sentence_ids = [vocab_to_int.get(w, vocab_to_int['<UNK>']) for w in sentence.split()]\n",
    "    return sentence_ids\n",
    "\n",
    "\n",
    "\"\"\"\n",
    "DON'T MODIFY ANYTHING IN THIS CELL THAT IS BELOW THIS LINE\n",
    "\"\"\"\n",
    "tests.test_sentence_to_seq(sentence_to_seq)"
   ]
  },
  {
   "cell_type": "markdown",
   "metadata": {},
   "source": [
    "## Translate\n",
    "This will translate `translate_sentence` from English to French."
   ]
  },
  {
   "cell_type": "code",
   "execution_count": 15,
   "metadata": {},
   "outputs": [
    {
     "name": "stdout",
     "output_type": "stream",
     "text": [
      "INFO:tensorflow:Restoring parameters from checkpoints/dev\n",
      "Input\n",
      "  Word Ids:      [179, 20, 200, 196, 44, 84, 209]\n",
      "  English Words: ['he', 'saw', 'a', 'old', 'yellow', 'truck', '.']\n",
      "\n",
      "Prediction\n",
      "  Word Ids:      [138, 243, 236, 302, 328, 143, 157, 173, 1]\n",
      "  French Words: il a vu un vieux camion jaune . <EOS>\n"
     ]
    }
   ],
   "source": [
    "translate_sentence = 'he saw a old yellow truck .'\n",
    "\n",
    "\n",
    "\"\"\"\n",
    "DON'T MODIFY ANYTHING IN THIS CELL\n",
    "\"\"\"\n",
    "translate_sentence = sentence_to_seq(translate_sentence, source_vocab_to_int)\n",
    "\n",
    "loaded_graph = tf.Graph()\n",
    "with tf.Session(graph=loaded_graph) as sess:\n",
    "    # Load saved model\n",
    "    loader = tf.train.import_meta_graph(load_path + '.meta')\n",
    "    loader.restore(sess, load_path)\n",
    "\n",
    "    input_data = loaded_graph.get_tensor_by_name('input:0')\n",
    "    logits = loaded_graph.get_tensor_by_name('predictions:0')\n",
    "    target_sequence_length = loaded_graph.get_tensor_by_name('target_sequence_length:0')\n",
    "    source_sequence_length = loaded_graph.get_tensor_by_name('source_sequence_length:0')\n",
    "    keep_prob = loaded_graph.get_tensor_by_name('keep_prob:0')\n",
    "\n",
    "    translate_logits = sess.run(logits, {input_data: [translate_sentence]*batch_size,\n",
    "                                         target_sequence_length: [len(translate_sentence)*2]*batch_size,\n",
    "                                         source_sequence_length: [len(translate_sentence)]*batch_size,\n",
    "                                         keep_prob: 1.0})[0]\n",
    "\n",
    "print('Input')\n",
    "print('  Word Ids:      {}'.format([i for i in translate_sentence]))\n",
    "print('  English Words: {}'.format([source_int_to_vocab[i] for i in translate_sentence]))\n",
    "\n",
    "print('\\nPrediction')\n",
    "print('  Word Ids:      {}'.format([i for i in translate_logits]))\n",
    "print('  French Words: {}'.format(\" \".join([target_int_to_vocab[i] for i in translate_logits])))\n"
   ]
  },
  {
   "cell_type": "markdown",
   "metadata": {},
   "source": [
    "## Imperfect Translation\n",
    "You might notice that some sentences translate better than others.  Since the dataset you're using only has a vocabulary of 227 English words of the thousands that you use, you're only going to see good results using these words.  For this project, you don't need a perfect translation. However, if you want to create a better translation model, you'll need better data.\n",
    "\n",
    "You can train on the [WMT10 French-English corpus](http://www.statmt.org/wmt10/training-giga-fren.tar).  This dataset has more vocabulary and richer in topics discussed.  However, this will take you days to train, so make sure you've a GPU and the neural network is performing well on dataset we provided.  Just make sure you play with the WMT10 corpus after you've submitted this project.\n",
    "## Submitting This Project\n",
    "When submitting this project, make sure to run all the cells before saving the notebook. Save the notebook file as \"dlnd_language_translation.ipynb\" and save it as a HTML file under \"File\" -> \"Download as\". Include the \"helper.py\" and \"problem_unittests.py\" files in your submission."
   ]
  }
 ],
 "metadata": {
  "anaconda-cloud": {},
  "kernelspec": {
   "display_name": "Python 3",
   "language": "python",
   "name": "python3"
  },
  "language_info": {
   "codemirror_mode": {
    "name": "ipython",
    "version": 3
   },
   "file_extension": ".py",
   "mimetype": "text/x-python",
   "name": "python",
   "nbconvert_exporter": "python",
   "pygments_lexer": "ipython3",
   "version": "3.6.2"
  }
 },
 "nbformat": 4,
 "nbformat_minor": 1
}
